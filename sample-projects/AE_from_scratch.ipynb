{
 "cells": [
  {
   "attachments": {},
   "cell_type": "markdown",
   "metadata": {
    "tags": []
   },
   "source": [
    "# The Lamb Lies Down on Broadway's Project\n",
    "Fernando Sckaff, Catherine Lawrence, Samitha Kosanam"
   ]
  },
  {
   "cell_type": "code",
   "execution_count": 1,
   "metadata": {},
   "outputs": [
    {
     "name": "stdout",
     "output_type": "stream",
     "text": [
      "Device cuda:0\n"
     ]
    }
   ],
   "source": [
    "# OBS: You must have CUDA in your machine. \n",
    "# Otherwise, some of the code must be changed (delete all .cuda() calls).\n",
    "\n",
    "# --------------- Import Libraries --------------- #\n",
    "import matplotlib.pyplot as plt  # Plot\n",
    "from numpy import linalg as LA   # Get L-2 Norm\n",
    "from utils import mnist_reader   # Get Iris Dataset\n",
    "import numpy as np               # Data preprocessing\n",
    "            \n",
    "# Import necessary PyTorch    \n",
    "import torch\n",
    "import torch.nn as nn\n",
    "from torchsummary import summary # Summarize model\n",
    "from torch.nn.functional import normalize\n",
    "\n",
    "# Reproducibility\n",
    "torch.manual_seed(0)\n",
    "np.random.seed(0)\n",
    "\n",
    "# Use CUDA if possible\n",
    "device = torch.device(\"cuda:0\" if torch.cuda.is_available() else \"cpu\")\n",
    "print(\"Device\", device)\n",
    "\n",
    "# --------------- Import Data --------------- #\n",
    "# Fetch Iris Dataset\n",
    "X_train, y_train = mnist_reader.load_mnist('data/fashion', kind='train')\n",
    "X_test, y_test = mnist_reader.load_mnist('data/fashion', kind='t10k')\n",
    "\n",
    "# Correct datatype\n",
    "X_train = np.float32(X_train)\n",
    "X_test = np.float32(X_test)\n",
    "\n",
    "# Normalize train dataset\n",
    "train_dataset = torch.from_numpy(X_train)\n",
    "train_dataset_norm = (train_dataset-torch.mean(train_dataset))/torch.std(train_dataset)\n",
    "\n",
    "# Normalize test dataset\n",
    "test_dataset = torch.from_numpy(X_test)\n",
    "test_dataset_norm = (test_dataset-torch.mean(test_dataset))/torch.std(test_dataset)\n",
    "\n",
    "# Image sample we will be using\n",
    "j = 2\n",
    "\n",
    "# Helper function to shuffle data\n",
    "def shuffle_data(data):\n",
    "    size = data.shape[0]\n",
    "    index = torch.randperm(size)\n",
    "    new_data = data[index]\n",
    "    return new_data"
   ]
  },
  {
   "attachments": {},
   "cell_type": "markdown",
   "metadata": {
    "tags": []
   },
   "source": [
    "# Model + Training\n",
    "\n",
    "**Question 1:** The best non-convolutional (only fully connected layer) autoencoder you can obtain clearly detailing the architecture, learning rules, loss functions (and include the settings of all free parameters). Detailed explanation on the report."
   ]
  },
  {
   "cell_type": "code",
   "execution_count": 2,
   "metadata": {},
   "outputs": [
    {
     "name": "stdout",
     "output_type": "stream",
     "text": [
      "----------------------------------------------------------------\n",
      "        Layer (type)               Output Shape         Param #\n",
      "================================================================\n",
      "            Linear-1              [-1, 32, 392]         307,720\n",
      "         LeakyReLU-2              [-1, 32, 392]               0\n",
      "            Linear-3              [-1, 32, 196]          77,028\n",
      "         LeakyReLU-4              [-1, 32, 196]               0\n",
      "            Linear-5                [-1, 32, 8]           1,576\n",
      "         LeakyReLU-6                [-1, 32, 8]               0\n",
      "            Linear-7              [-1, 32, 196]           1,764\n",
      "         LeakyReLU-8              [-1, 32, 196]               0\n",
      "            Linear-9              [-1, 32, 392]          77,224\n",
      "        LeakyReLU-10              [-1, 32, 392]               0\n",
      "           Linear-11              [-1, 32, 784]         308,112\n",
      "================================================================\n",
      "Total params: 773,424\n",
      "Trainable params: 773,424\n",
      "Non-trainable params: 0\n",
      "----------------------------------------------------------------\n",
      "Input size (MB): 0.10\n",
      "Forward/backward pass size (MB): 0.77\n",
      "Params size (MB): 2.95\n",
      "Estimated Total Size (MB): 3.82\n",
      "----------------------------------------------------------------\n"
     ]
    }
   ],
   "source": [
    "class Autoencoder(nn.Module):\n",
    "    def __init__(self, input_dim = 784, latent = 8):\n",
    "        super().__init__()\n",
    "        \n",
    "        # Encoder block\n",
    "        self.encoder = nn.Sequential(\n",
    "            # First linear layer. Takes features and shrinks it in half\n",
    "            nn.Linear(in_features=input_dim, out_features=input_dim//2),\n",
    "            # First activation function. LeakyReLU with a negative slope of 0.5.\n",
    "            nn.LeakyReLU(0.5),\n",
    "            \n",
    "            # Second linear layer, takes the halved input and shrinks in half once again\n",
    "            nn.Linear(in_features=input_dim//2, out_features=input_dim//4),\n",
    "            # Same Activation function.\n",
    "            nn.LeakyReLU(0.5),\n",
    "            \n",
    "            # Third linear layer, shrinks it into the latent space\n",
    "            nn.Linear(in_features=input_dim//4, out_features=latent),\n",
    "            # Last activation function of the encoder, latent layer is given.\n",
    "            nn.LeakyReLU(0.5))\n",
    "        \n",
    "        # Decoder block\n",
    "        self.decoder = nn.Sequential(\n",
    "            # Latent space is now being decoded to 1/4 of the original size\n",
    "            nn.Linear(in_features=latent, out_features=input_dim//4),\n",
    "            # LeakyReLU activation function with a negative slope of 0.5 once again.\n",
    "            nn.LeakyReLU(0.5),\n",
    "            \n",
    "            # Second-to-last fully connected layer, broadening the features to double its size\n",
    "            nn.Linear(in_features=input_dim//4, out_features=input_dim//2),\n",
    "            nn.LeakyReLU(0.5),\n",
    "            \n",
    "            # Last FC layer. Image should be decoded by now\n",
    "            nn.Linear(in_features=input_dim//2, out_features=input_dim))\n",
    "\n",
    "    # Forward function\n",
    "    def forward(self, x):\n",
    "        x = self.encoder(x)\n",
    "        x = self.decoder(x)\n",
    "        return x\n",
    "\n",
    "# Loss = Mean-Squared-Error. A linear loss function\n",
    "criterion = nn.MSELoss()\n",
    "    \n",
    "# Model summary\n",
    "summary(Autoencoder().to(device), (32, 784))"
   ]
  },
  {
   "attachments": {},
   "cell_type": "markdown",
   "metadata": {
    "tags": []
   },
   "source": [
    "## Training function"
   ]
  },
  {
   "cell_type": "code",
   "execution_count": 3,
   "metadata": {},
   "outputs": [],
   "source": [
    "def training(model, dataset, optimizer, criterion, latent_dim, epochs, output=True, batch_size = 1000):\n",
    "\n",
    "    # Initialize data and loss\n",
    "    train_loss = []\n",
    "    best_loss = 100\n",
    "    dataset = shuffle_data(dataset)\n",
    "\n",
    "    data_size  = dataset.shape[0]\n",
    "    batches = data_size//batch_size\n",
    "\n",
    "    # Train model\n",
    "    for epoch in range(epochs):\n",
    "        running_loss = 0.0\n",
    "\n",
    "        for i in range(batches):\n",
    "            # Update batch\n",
    "            start = i*batch_size\n",
    "            end = min(data_size, start+batch_size)\n",
    "            data = dataset[start:end]   \n",
    "\n",
    "            # Train\n",
    "            optimizer.zero_grad()\n",
    "            outputs = model(data.cuda())\n",
    "            loss = criterion(outputs, data.cuda())\n",
    "            loss.backward()\n",
    "            optimizer.step()\n",
    "            running_loss += loss.item()\n",
    "\n",
    "        loss = running_loss / batches\n",
    "\n",
    "        train_loss.append(loss)\n",
    "        \n",
    "        if(output):\n",
    "            # Output the loss every 20 epochs\n",
    "            if epoch % 20 == 0:\n",
    "                print('Epoch {} of {}, Train Loss: {:.6f}'.format(epoch+1, epochs, running_loss))\n",
    "\n",
    "            # If we have a better loss after 20 epochs, update it\n",
    "            if (loss < best_loss) and (epoch % 20 == 0):\n",
    "                best_loss = loss\n",
    "                print('best loss: ', best_loss)\n",
    "                \n",
    "                with torch.no_grad():\n",
    "                    model.eval()\n",
    "                    \n",
    "                    temp_result = model(test_dataset_norm.cuda())\n",
    "                    best_loss = criterion(temp_result, test_dataset_norm.cuda())\n",
    "    \n",
    "    # Output best loss\n",
    "    if(output):\n",
    "        print('FINAL BEST LOSS: ', best_loss)"
   ]
  },
  {
   "attachments": {},
   "cell_type": "markdown",
   "metadata": {
    "tags": []
   },
   "source": [
    "# Project Tasks"
   ]
  },
  {
   "attachments": {},
   "cell_type": "markdown",
   "metadata": {
    "tags": []
   },
   "source": [
    "## Task 1: Latent Space Calculation\n",
    "\n",
    "**Question 2:** In the decoder of the autoencoder, given the output of the AE, determine:\n",
    "- The input of each layer using least-squares. \n",
    "- Compute the difference using a reasonable norm between the latent space discovered by the AE and by your least-squares approach. \n",
    "- Do this for both the training and test sets provided by fashionMNIST."
   ]
  },
  {
   "cell_type": "code",
   "execution_count": 4,
   "metadata": {
    "tags": []
   },
   "outputs": [],
   "source": [
    "# Initialize model\n",
    "num_epochs = 300\n",
    "task1_model = Autoencoder().to(device)\n",
    "optimizer = torch.optim.Adam(task1_model.parameters(), lr=0.001)\n",
    "\n",
    "# Train the model. Make output = True if you want to see it learning.\n",
    "training(model=task1_model, dataset=train_dataset_norm, optimizer=optimizer, \n",
    "         criterion=criterion, latent_dim=16, output=False, epochs=num_epochs)"
   ]
  },
  {
   "attachments": {},
   "cell_type": "markdown",
   "metadata": {},
   "source": [
    "### Predict latent space from output\n",
    "Since $y=Wx+b$, then $$x=W^+(y-b)$$"
   ]
  },
  {
   "attachments": {},
   "cell_type": "markdown",
   "metadata": {},
   "source": [
    "#### Train Dataset"
   ]
  },
  {
   "cell_type": "code",
   "execution_count": 5,
   "metadata": {},
   "outputs": [
    {
     "name": "stdout",
     "output_type": "stream",
     "text": [
      "[TRAIN] Difference between the latent spaces: 0.012473972514271736\n"
     ]
    }
   ],
   "source": [
    "with torch.no_grad():\n",
    "    task1_model.eval()\n",
    "    \n",
    "    # Get the weights and biases of the decoder layers\n",
    "    W4, b4 = task1_model.decoder[0].weight, task1_model.decoder[0].bias\n",
    "    W5, b5 = task1_model.decoder[2].weight, task1_model.decoder[2].bias\n",
    "    W6, b6 = task1_model.decoder[4].weight, task1_model.decoder[4].bias\n",
    "\n",
    "    # [TRAIN] Output of the AE\n",
    "    y_pred = task1_model(train_dataset_norm.cuda())   \n",
    "    \n",
    "    # Compute the best input for decoder-fc3 (L6) using least-squares\n",
    "    L6_input = torch.matmul(torch.pinverse(W6), (y_pred - b6).t())\n",
    "    \n",
    "    # Run backwards ReLU. Negative slope = 0.5\n",
    "    L6_input = torch.where(L6_input >= 0, L6_input, L6_input/0.5)\n",
    "    \n",
    "    # Compute the best input for decoder-fc2 (L5) using least-squares\n",
    "    L5_input = torch.matmul(torch.pinverse(W5), (L6_input - b5.unsqueeze(1)))\n",
    "\n",
    "    # Run backwards ReLU. Negative slope = 0.5\n",
    "    L5_input = torch.where(L5_input >= 0, L5_input, L5_input/0.5)\n",
    "    \n",
    "    # Compute the best input for decoder-fc1 (L4 - latent space) using least-squares\n",
    "    L4_input = torch.matmul(torch.pinverse(W4), (L5_input - b4.unsqueeze(1)))\n",
    "    \n",
    "    # Compute the difference between the latent spaces using L2 norm\n",
    "    latent_space = task1_model.encoder(train_dataset_norm.cuda())\n",
    "    \n",
    "    # NORMALIZATION: Frobenius norm\n",
    "    difference = torch.norm(latent_space - L4_input.t())\n",
    "    print(\"[TRAIN] Difference between the latent spaces:\", difference.item())"
   ]
  },
  {
   "attachments": {},
   "cell_type": "markdown",
   "metadata": {},
   "source": [
    "#### Test Dataset"
   ]
  },
  {
   "cell_type": "code",
   "execution_count": 6,
   "metadata": {
    "tags": []
   },
   "outputs": [
    {
     "name": "stdout",
     "output_type": "stream",
     "text": [
      "[TEST] Difference between the latent spaces: 0.0050775278359651566\n"
     ]
    }
   ],
   "source": [
    "with torch.no_grad():\n",
    "    task1_model.eval()\n",
    "    \n",
    "    # Get the weights and biases of the decoder layers\n",
    "    W4, b4 = task1_model.decoder[0].weight, task1_model.decoder[0].bias\n",
    "    W5, b5 = task1_model.decoder[2].weight, task1_model.decoder[2].bias\n",
    "    W6, b6 = task1_model.decoder[4].weight, task1_model.decoder[4].bias\n",
    "\n",
    "    # [TEST] Output of the AE\n",
    "    y_pred = task1_model(test_dataset_norm.cuda())   \n",
    "    \n",
    "    # Compute the best input for decoder-fc3 (L6) using least-squares\n",
    "    L6_input = torch.matmul(torch.pinverse(W6), (y_pred - b6).t())\n",
    "    \n",
    "    # Run backwards ReLU. Negative slope = 0.5\n",
    "    L6_input = torch.where(L6_input >= 0, L6_input, L6_input/0.5)\n",
    "    \n",
    "    # Compute the best input for decoder-fc2 (L5) using least-squares\n",
    "    L5_input = torch.matmul(torch.pinverse(W5), (L6_input - b5.unsqueeze(1)))\n",
    "\n",
    "    # Run backwards ReLU. Negative slope = 0.5\n",
    "    L5_input = torch.where(L5_input >= 0, L5_input, L5_input/0.5)\n",
    "    \n",
    "    # Compute the best input for decoder-fc1 (L4 - latent space) using least-squares\n",
    "    L4_input = torch.matmul(torch.pinverse(W4), (L5_input - b4.unsqueeze(1)))\n",
    "    \n",
    "    # Compute the difference between the latent spaces using L2 norm\n",
    "    latent_space = task1_model.encoder(test_dataset_norm.cuda())\n",
    "    \n",
    "    # NORMALIZATION: Frobenius norm\n",
    "    difference = torch.norm(latent_space - L4_input.t())\n",
    "    print(\"[TEST] Difference between the latent spaces:\", difference.item())"
   ]
  },
  {
   "attachments": {},
   "cell_type": "markdown",
   "metadata": {},
   "source": [
    "**Observation:** It seems the model works better with the *Test* dataset instead of the *Train* dataset. We re-ran this quite a few times. We don't know why the latent space works better with the *Test* dataset."
   ]
  },
  {
   "attachments": {},
   "cell_type": "markdown",
   "metadata": {
    "tags": []
   },
   "source": [
    "## Task 2: Latent Space Reconstruction\n",
    "**Question 3:** In the decoder of the autoencoder, given the target of the AE (a training set instance), determine:\n",
    "- The input of each layer using least-squares. For example, if you have 3 fc layers in the decoder, you need to begin with the output obtained from the AE and then obtain the best input to decoder-fc3, decoder-fc2 and decoder-fc1 (which is the latent space) using least-squares. \n",
    "- Compute the difference using a reasonable norm between the latent space discovered by the AE and by your least-squares approach.\n",
    "- Find the output of the AE decoder using your discovered latent space. Document the errors at the top layer between your outputs and the targets using a reasonable norm. Do this for both the training and test sets."
   ]
  },
  {
   "cell_type": "code",
   "execution_count": 7,
   "metadata": {},
   "outputs": [],
   "source": [
    "# Initialize model\n",
    "num_epochs = 300\n",
    "task2_model = Autoencoder().to(device)\n",
    "optimizer = torch.optim.Adam(task2_model.parameters(), lr=0.001)\n",
    "\n",
    "# Train. Make output = True if you want to see it learning.\n",
    "training(model=task2_model, dataset=train_dataset_norm, optimizer=optimizer, \n",
    "         criterion=criterion, latent_dim=16, output=False, epochs=num_epochs)"
   ]
  },
  {
   "attachments": {},
   "cell_type": "markdown",
   "metadata": {},
   "source": [
    "### Predict latent space from output\n",
    "Since $y=Wx+b$, then $$x=W^+(y-b)$$"
   ]
  },
  {
   "attachments": {},
   "cell_type": "markdown",
   "metadata": {},
   "source": [
    "#### Train"
   ]
  },
  {
   "cell_type": "code",
   "execution_count": 8,
   "metadata": {},
   "outputs": [
    {
     "name": "stdout",
     "output_type": "stream",
     "text": [
      "[TRAIN] Difference between the latent spaces: 1.8420825654175133e-05\n"
     ]
    },
    {
     "data": {
      "image/png": "[encoded data removed]",
      "text/plain": [
       "<Figure size 800x200 with 3 Axes>"
      ]
     },
     "metadata": {},
     "output_type": "display_data"
    }
   ],
   "source": [
    "with torch.no_grad():\n",
    "    task2_model.eval()\n",
    "    \n",
    "    # Get the weights and biases of the decoder layers\n",
    "    W4, b4 = task2_model.decoder[0].weight, task2_model.decoder[0].bias\n",
    "    W5, b5 = task2_model.decoder[2].weight, task2_model.decoder[2].bias\n",
    "    W6, b6 = task2_model.decoder[4].weight, task2_model.decoder[4].bias\n",
    "\n",
    "    # [TRAIN] Output of the AE\n",
    "    y_pred = task2_model(train_dataset_norm[j].cuda())   \n",
    "    \n",
    "    # Compute the best input for decoder-fc3 (L6) using least-squares\n",
    "    L6_input = torch.matmul(torch.pinverse(W6), (y_pred - b6))\n",
    "    \n",
    "    # Run backwards ReLU. Negative slope = 0.5\n",
    "    L6_input = torch.where(L6_input >= 0, L6_input, L6_input/0.5)\n",
    "    \n",
    "    # Compute the best input for decoder-fc2 (L5) using least-squares\n",
    "    L5_input = torch.matmul(torch.pinverse(W5), (L6_input - b5))\n",
    "    \n",
    "    # Run backwards ReLU. Negative slope = 0.5\n",
    "    L5_input = torch.where(L5_input >= 0, L5_input, L5_input/0.5)\n",
    "    \n",
    "    # Compute the best input for decoder-fc1 (L4 - latent space) using least-squares\n",
    "    L4_input = torch.matmul(torch.pinverse(W4), (L5_input - b4))\n",
    "    \n",
    "    # Compute the difference between the latent spaces using L2 norm\n",
    "    latent_space = task2_model.encoder(train_dataset_norm[j].cuda())\n",
    "    \n",
    "    # NORMALIZATION: L2-Norm\n",
    "    difference = torch.norm(latent_space - L4_input, p=2)\n",
    "    print(\"[TRAIN] Difference between the latent spaces:\", difference.item())\n",
    "    \n",
    "    # True model decoder\n",
    "    output_true = y_pred.reshape([28, 28]).cpu().detach().numpy()\n",
    "\n",
    "    # Predicted model decoder\n",
    "    output_pred = task2_model.decoder(L4_input)\n",
    "    output_pred = output_pred.reshape([28, 28]).cpu().detach().numpy()\n",
    "    \n",
    "# Compare\n",
    "f, axarr = plt.subplots(1, 3, figsize=(8, 2))\n",
    "axarr[0].imshow(train_dataset_norm[j].reshape([28,28]))\n",
    "axarr[0].title.set_text('Real Output')\n",
    "axarr[0].axis('off')\n",
    "\n",
    "axarr[1].imshow(output_true)\n",
    "axarr[1].title.set_text('Model Output')\n",
    "axarr[1].axis('off')\n",
    "\n",
    "axarr[2].imshow(output_pred)\n",
    "axarr[2].title.set_text('Predicted Output')\n",
    "axarr[2].axis('off')\n",
    "plt.show()"
   ]
  },
  {
   "attachments": {},
   "cell_type": "markdown",
   "metadata": {},
   "source": [
    "#### Test"
   ]
  },
  {
   "cell_type": "code",
   "execution_count": 9,
   "metadata": {},
   "outputs": [
    {
     "name": "stdout",
     "output_type": "stream",
     "text": [
      "[TEST] Difference between the latent spaces: 4.1358529415447265e-05\n"
     ]
    },
    {
     "data": {
      "image/png": "[encoded data removed]",
      "text/plain": [
       "<Figure size 800x200 with 3 Axes>"
      ]
     },
     "metadata": {},
     "output_type": "display_data"
    }
   ],
   "source": [
    "with torch.no_grad():\n",
    "    task2_model.eval()\n",
    "    \n",
    "    # Get the weights and biases of the decoder layers\n",
    "    W4, b4 = task2_model.decoder[0].weight, task2_model.decoder[0].bias\n",
    "    W5, b5 = task2_model.decoder[2].weight, task2_model.decoder[2].bias\n",
    "    W6, b6 = task2_model.decoder[4].weight, task2_model.decoder[4].bias\n",
    "\n",
    "    # [TEST] Output of the AE\n",
    "    y_pred = task2_model(test_dataset_norm[j].cuda())   \n",
    "    \n",
    "    # Compute the best input for decoder-fc3 (L6) using least-squares\n",
    "    L6_input = torch.matmul(torch.pinverse(W6), (y_pred - b6))\n",
    "    \n",
    "    # Run backwards ReLU. Negative slope = 0.5\n",
    "    L6_input = torch.where(L6_input >= 0, L6_input, L6_input/0.5)\n",
    "    \n",
    "    # Compute the best input for decoder-fc2 (L5) using least-squares\n",
    "    L5_input = torch.matmul(torch.pinverse(W5), (L6_input - b5))\n",
    "    \n",
    "    # Run backwards ReLU. Negative slope = 0.5\n",
    "    L5_input = torch.where(L5_input >= 0, L5_input, L5_input/0.5)\n",
    "    \n",
    "    # Compute the best input for decoder-fc1 (L4 - latent space) using least-squares\n",
    "    L4_input = torch.matmul(torch.pinverse(W4), (L5_input - b4))\n",
    "    \n",
    "    # Compute the difference between the latent spaces using L2 norm\n",
    "    latent_space = task2_model.encoder(test_dataset_norm[j].cuda())\n",
    "    \n",
    "    # NORMALIZATION: L2-Norm\n",
    "    difference = torch.norm(latent_space - L4_input, p=2)\n",
    "    print(\"[TEST] Difference between the latent spaces:\", difference.item())\n",
    "    \n",
    "    # True model decoder\n",
    "    output_true = y_pred.reshape([28, 28]).cpu().detach().numpy()\n",
    "\n",
    "    # Predicted model decoder\n",
    "    output_pred = task2_model.decoder(L4_input)\n",
    "    output_pred = output_pred.reshape([28, 28]).cpu().detach().numpy()\n",
    "    \n",
    "# Compare\n",
    "f, axarr = plt.subplots(1, 3, figsize=(8, 2))\n",
    "axarr[0].imshow(test_dataset_norm[j].reshape([28,28]))\n",
    "axarr[0].title.set_text('Real Output')\n",
    "axarr[0].axis('off')\n",
    "\n",
    "axarr[1].imshow(output_true)\n",
    "axarr[1].title.set_text('Model Output')\n",
    "axarr[1].axis('off')\n",
    "\n",
    "axarr[2].imshow(output_pred)\n",
    "axarr[2].title.set_text('Predicted Output')\n",
    "axarr[2].axis('off')\n",
    "plt.show()"
   ]
  },
  {
   "attachments": {},
   "cell_type": "markdown",
   "metadata": {
    "tags": []
   },
   "source": [
    "## Task 3: Comparing Losses (NRMSE) vs. Compression Ratio\n",
    "**Question 4:** For both the AE and your latent space discovered in (3) above, compute the compression ratios for a range of latent space cardinalities. Do this for both the training and test sets provided by fashionMNIST. MSELoss will require normalization, NRMSE.\n",
    "\n",
    "NRMSE being $$NRMSE = \\frac{RMSE}{y_{max} - y_{min}}$$\n",
    "and RMSE being:\n",
    "$$RMSE = \\sqrt{\\frac{1}{n}\\sum_{i=1}^{n}\\|y_i - \\hat{y}_i\\|^2_2}$$"
   ]
  },
  {
   "attachments": {},
   "cell_type": "markdown",
   "metadata": {
    "tags": []
   },
   "source": [
    "### Calculate Loss Function"
   ]
  },
  {
   "cell_type": "code",
   "execution_count": 10,
   "metadata": {},
   "outputs": [],
   "source": [
    "# An array for all the final Train Loss (NRMSE) for each CR\n",
    "nrmse_train = []\n",
    "\n",
    "# An array for all the final Test Loss (NRMSE) for each CR\n",
    "nrmse_test = []\n",
    "\n",
    "# Training the model and calculating the NRMSE for each CR\n",
    "def calculate_loss(latent_dim):\n",
    "    # Loss Function: MSELoss\n",
    "    criterion = nn.MSELoss()\n",
    "    \n",
    "    # Model\n",
    "    model = Autoencoder().to(device)\n",
    "    \n",
    "    # Optimizer: Adam (SGD + Momentum)\n",
    "    optimizer = torch.optim.Adam(model.parameters(), lr=0.001)\n",
    "    \n",
    "    # Number of epochs\n",
    "    num_epochs = 160\n",
    "    \n",
    "    # Train the model\n",
    "    training(model=model, dataset=train_dataset_norm, optimizer=optimizer, criterion=criterion, \n",
    "             latent_dim=latent_dim, epochs=num_epochs, output=False, batch_size=1000)\n",
    "    \n",
    "    # Evaluate Train and Test \n",
    "    with torch.no_grad():\n",
    "        model.eval()\n",
    "        \n",
    "        result_train = model(train_dataset_norm.cuda()).detach().cpu().numpy()\n",
    "        result_test = model(test_dataset_norm.cuda()).detach().cpu().numpy()\n",
    "\n",
    "    ### Calculate Train NRMSE ###\n",
    "    train_rmse = 0\n",
    "\n",
    "    for i in range(train_dataset_norm.shape[0]):\n",
    "        # Calculating the square root of the norm of the difference. Using L2-Norm\n",
    "        train_rmse += np.linalg.norm(train_dataset_norm[i].cpu().detach().numpy()-result_train[i], ord=2)\n",
    "\n",
    "    # Dividing the result by the number of samples, taking the square root, and normalizing\n",
    "    train_nrmse = np.sqrt(train_rmse/result_train.shape[0])/(train_dataset_norm.max().item() - train_dataset_norm.min().item())\n",
    "    \n",
    "    ### Calculate Test NRMSE ###\n",
    "    test_rmse = 0\n",
    "\n",
    "    for i in range(test_dataset_norm.shape[0]):\n",
    "        # Calculating the square root of the norm of the difference. Using L2-Norm\n",
    "        test_rmse += np.linalg.norm(test_dataset_norm[i].cpu().detach().numpy()-result_test[i], ord=2)\n",
    "\n",
    "    # Dividing the result by the number of samples, taking the square root, and normalizing\n",
    "    test_nrmse = np.sqrt(test_rmse/result_test.shape[0])/(test_dataset_norm.max().item() - test_dataset_norm.min().item())\n",
    "\n",
    "    # Append both results on array for diplay later on\n",
    "    nrmse_train.append(train_nrmse)\n",
    "    nrmse_test.append(test_nrmse)\n",
    "    return model"
   ]
  },
  {
   "attachments": {},
   "cell_type": "markdown",
   "metadata": {
    "tags": []
   },
   "source": [
    "### Train different Compression Ratios"
   ]
  },
  {
   "cell_type": "code",
   "execution_count": 12,
   "metadata": {},
   "outputs": [],
   "source": [
    "# 4-latent-space\n",
    "model_4  = calculate_loss(4)\n",
    "\n",
    "# 8-latent-space\n",
    "model_8  = calculate_loss(8)\n",
    "\n",
    "# 16-latent-space\n",
    "model_16  = calculate_loss(16)\n",
    "\n",
    "# 112-latent-space\n",
    "model_112  = calculate_loss(112)\n",
    "\n",
    "# 784-latent-space\n",
    "model_784  = calculate_loss(784)"
   ]
  },
  {
   "attachments": {},
   "cell_type": "markdown",
   "metadata": {
    "tags": []
   },
   "source": [
    "### Visualize reconstructions (for utility purposes)"
   ]
  },
  {
   "cell_type": "code",
   "execution_count": 13,
   "metadata": {},
   "outputs": [
    {
     "data": {
      "image/png": "[encoded data removed]",
      "text/plain": [
       "<Figure size 1500x400 with 6 Axes>"
      ]
     },
     "metadata": {},
     "output_type": "display_data"
    }
   ],
   "source": [
    "y_pred_4 = model_4(test_dataset_norm[j].cuda()).reshape([28,28])\n",
    "y_pred_8 = model_8(test_dataset_norm[j].cuda()).reshape([28,28])\n",
    "y_pred_16 = model_16(test_dataset_norm[j].cuda()).reshape([28,28])\n",
    "y_pred_112 = model_112(test_dataset_norm[j].cuda()).reshape([28,28])\n",
    "y_pred_784 = model_784(test_dataset_norm[j].cuda()).reshape([28,28])\n",
    "\n",
    "f, axarr = plt.subplots(1, 6, figsize=(15, 4))\n",
    "axarr[0].imshow(test_dataset_norm[j].reshape([28, 28]))\n",
    "axarr[0].title.set_text('Original')\n",
    "\n",
    "axarr[1].imshow(y_pred_4.cpu().detach().numpy())\n",
    "axarr[1].title.set_text('4 Latent Space')\n",
    "\n",
    "axarr[2].imshow(y_pred_8.cpu().detach().numpy())\n",
    "axarr[2].title.set_text('8 Latent Space')\n",
    "\n",
    "axarr[3].imshow(y_pred_16.cpu().detach().numpy())\n",
    "axarr[3].title.set_text('16 Latent Space')\n",
    "\n",
    "axarr[4].imshow(y_pred_112.cpu().detach().numpy())\n",
    "axarr[4].title.set_text('112 Latent Space')\n",
    "\n",
    "axarr[5].imshow(y_pred_784.cpu().detach().numpy())\n",
    "axarr[5].title.set_text('784 Latent Space')\n",
    "\n",
    "f.suptitle('Compression Rates: [None, 196, 98, 49, 7, 1]', size=30)\n",
    "plt.show()"
   ]
  },
  {
   "attachments": {},
   "cell_type": "markdown",
   "metadata": {},
   "source": [
    "### Visualize NRMSE vs. CR"
   ]
  },
  {
   "cell_type": "code",
   "execution_count": 15,
   "metadata": {},
   "outputs": [
    {
     "data": {
      "image/png": "[encoded data removed]",
      "text/plain": [
       "<Figure size 640x480 with 1 Axes>"
      ]
     },
     "metadata": {},
     "output_type": "display_data"
    }
   ],
   "source": [
    "latent_spaces = [4, 8, 16, 112, 784]\n",
    "compression_ratio = [784/4, 784/8, 784/16, 784/112, 784/784]\n",
    "\n",
    "# NRMSE\n",
    "plt.plot(compression_ratio, nrmse_train, c='r', label='NRMSE Train')\n",
    "plt.plot(compression_ratio, nrmse_test, c='b', label='NRMSE Test')\n",
    "\n",
    "plt.title('NRMSE vs Compression Ratio')\n",
    "plt.xlabel('Compression Ratio')\n",
    "plt.xticks(compression_ratio)\n",
    "plt.ylabel('NRMSE Loss')\n",
    "plt.legend(loc=\"best\")\n",
    "plt.gca().invert_xaxis()\n",
    "plt.show()"
   ]
  }
 ],
 "metadata": {
  "kernelspec": {
   "display_name": "PyTorch-1.13",
   "language": "python",
   "name": "pytorch-1.13"
  },
  "language_info": {
   "codemirror_mode": {
    "name": "ipython",
    "version": 3
   },
   "file_extension": ".py",
   "mimetype": "text/x-python",
   "name": "python",
   "nbconvert_exporter": "python",
   "pygments_lexer": "ipython3",
   "version": "3.10.8"
  }
 },
 "nbformat": 4,
 "nbformat_minor": 4
}
