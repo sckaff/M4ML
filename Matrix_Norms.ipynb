{
  "cells": [
    {
      "cell_type": "markdown",
      "source": [
        "# Homework 2 - Programming Question\n",
        "##### Fernando Sckaff\n",
        "##### Feb 6th, 2023\n",
        "Write a program to roughly carry out the optimization problem inherent in ∥𝐴∥∞. The program should take an arbitrary 𝑚 × 𝑛 matrix 𝐴 and sample over 100000 random vectors 𝑥 ∈ R^𝑛 (and use Gaussian random numbers) to approximately pick the maximum. Compute and empirically show that the analytic solution is an upper bound for the search.\n",
        "\n",
        "OBS: The infinity norm simply measures how large the vector is by the magnitude of its largest entry.\n",
        "\n",
        "## Import libraries and initialize variables"
      ],
      "metadata": {
        "id": "qIn9kKg0IpXE"
      }
    },
    {
      "cell_type": "code",
      "execution_count": null,
      "metadata": {
        "id": "mj_U4Wy2LcoZ"
      },
      "outputs": [],
      "source": [
        "import numpy as np\n",
        "import matplotlib.pyplot as plt\n",
        "\n",
        "m = 9                       # Number of rows\n",
        "n = 6                       # Number of columns\n",
        "A = np.random.randn(m,n)    # Setting up random A\n",
        "N = 100000                  # Number of samples of x\n",
        "x = np.random.randn(n,N)    # Setting up x\n",
        "y = A @ x                   # Setting up y = A @ x"
      ]
    },
    {
      "cell_type": "markdown",
      "source": [
        "## Norm of a matrix is the norm of its output over its input\n",
        "From our first objective function in our class, we know that the norm of matrix A equals the norm of Ax over the norm of x.\n",
        "\n",
        "Let's estimate the norm of A as stated above, and calculate the L_inf normalization of Ax and x."
      ],
      "metadata": {
        "id": "s6FOqWSkKoSc"
      }
    },
    {
      "cell_type": "code",
      "source": [
        "# Infinity Norm of its output, y(9x100k), by Maximum Absolute Row Sum:\n",
        "y_inf_norm = np.max(np.sum(np.abs(y),1))\n",
        "\n",
        "# Infinity Norm of its output, x(6x100k):\n",
        "x_inf_norm = np.max(np.sum(np.abs(x),1))"
      ],
      "metadata": {
        "id": "wdrLyI4aLPpm"
      },
      "execution_count": null,
      "outputs": []
    },
    {
      "cell_type": "markdown",
      "source": [
        "## Now, let's calculate the exact $L_\\inf$ norm of A, and print the differences"
      ],
      "metadata": {
        "id": "EMeamNSpLQFA"
      }
    },
    {
      "cell_type": "code",
      "source": [
        "# Computing the main ratio in the matrix norm calculation\n",
        "A_L_inf_norm_est = y_inf_norm/x_inf_norm # OR A_L_inf_norm_est = np.linalg.norm(y,np.inf)/np.linalg.norm(x,np.inf)\n",
        "\n",
        "# Computing the MARS of A: maximum absolute row sum\n",
        "A_L_inf_norm_exact = np.max(np.sum(np.abs(A),1)) # OR A_L_inf_norm_exact = np.linalg.norm(A,np.inf)\n",
        "\n",
        "print(\"Matrix L-inf norm estimate: {:.4f}, Matrix L-inf norm exact: {:.4f}\".format(\\\n",
        "    A_L_inf_norm_est, A_L_inf_norm_exact))"
      ],
      "metadata": {
        "colab": {
          "base_uri": "https://localhost:8080/"
        },
        "id": "26EyFk1PJ_Wa",
        "outputId": "334fd8b7-9360-40b5-aba8-6febfc99e419"
      },
      "execution_count": null,
      "outputs": [
        {
          "output_type": "stream",
          "name": "stdout",
          "text": [
            "Matrix L-inf norm estimate: 3.4892, Matrix L-inf norm exact: 7.3694\n"
          ]
        }
      ]
    },
    {
      "cell_type": "markdown",
      "source": [
        "## Distribution of the rows of Ax (not normalized\\\\not divided ||x||)"
      ],
      "metadata": {
        "id": "rFoJ_9coKL1G"
      }
    },
    {
      "cell_type": "code",
      "source": [
        "# Shortage of samples and transforming into a higher dimension matrix made it harder\n",
        "# for me to calculate the stretchness of a particular vector (since an individual\n",
        "# output vector is a combination of multiple input vectors).\n",
        "#\n",
        "# Therefore, here is the distribution of the rows of 100,000 random vectors after the A transformation\n",
        "\n",
        "plt.figure()\n",
        "plt.hist(np.sum(np.abs(y),1), edgecolor='black', linewidth=1.2)\n",
        "plt.xlabel(r\"Distribution of the rows of Ax\")\n",
        "plt.ylabel(\"Histogram counts\")\n",
        "plt.show()"
      ],
      "metadata": {
        "colab": {
          "base_uri": "https://localhost:8080/",
          "height": 279
        },
        "id": "XFr8H-q666Ki",
        "outputId": "765b14db-41b2-4302-d4ca-62b17915ac87"
      },
      "execution_count": null,
      "outputs": [
        {
          "output_type": "display_data",
          "data": {
            "text/plain": [
              "<Figure size 432x288 with 1 Axes>"
            ],
            "image/png": "[encoded data removed]"
          },
          "metadata": {
            "needs_background": "light"
          }
        }
      ]
    },
    {
      "cell_type": "markdown",
      "source": [
        "## Calculating the upper bound and comparing"
      ],
      "metadata": {
        "id": "1wM1BldILfgI"
      }
    },
    {
      "cell_type": "code",
      "execution_count": null,
      "metadata": {
        "id": "o2t2yl0GLcog",
        "outputId": "8a89e053-a5a6-4b86-f96c-68d2b66e2a70",
        "colab": {
          "base_uri": "https://localhost:8080/"
        }
      },
      "outputs": [
        {
          "output_type": "stream",
          "name": "stdout",
          "text": [
            "Matrix L_inf norm estimate: 3.4892,  Matrix L_inf norm bound: 7.3481, Matrix L_inf norm exact: 7.3694\n"
          ]
        }
      ],
      "source": [
        "# Computing an upper bound of the matrix norm objective\n",
        "y_abs = np.abs(A) @ np.abs(x)   # Computing |A| @ |x|\n",
        "A_L_inf_norm_bnd = np.max(np.sum(y_abs,1))/np.max(np.sum(np.abs(x),1)) # Computing the largest value of the per instance upper bound\n",
        "\n",
        "# Printing stuff out\n",
        "print(\"Matrix L_inf norm estimate: {:.4f},  Matrix L_inf norm bound: {:.4f}, Matrix L_inf norm exact: {:.4f}\".format(\\\n",
        "    A_L_inf_norm_est,A_L_inf_norm_bnd,A_L_inf_norm_exact))\n"
      ]
    },
    {
      "cell_type": "code",
      "source": [
        "matrix_Linfnorm_obj = np.max(np.abs(y),0)/np.max(np.abs(x),0)"
      ],
      "metadata": {
        "id": "R14UQltOipPf"
      },
      "execution_count": null,
      "outputs": []
    },
    {
      "cell_type": "code",
      "source": [
        "matrix_Linfnorm_obj"
      ],
      "metadata": {
        "colab": {
          "base_uri": "https://localhost:8080/"
        },
        "id": "FV6W40DYi0IV",
        "outputId": "841dee0d-f855-476b-a6ee-113376b6af67"
      },
      "execution_count": null,
      "outputs": [
        {
          "output_type": "execute_result",
          "data": {
            "text/plain": [
              "array([1.45318137, 3.79505485, 2.36701736, ..., 2.96114933, 4.17864902,\n",
              "       2.16558101])"
            ]
          },
          "metadata": {},
          "execution_count": 7
        }
      ]
    },
    {
      "cell_type": "markdown",
      "source": [
        "## Conclusion\n",
        "\n",
        "When dealing with the infinite norm of a non-squared matrix, it's hard to understand the influence between every vector into the creation of the output vector.\n",
        "\n",
        "Because of that, manually calculating the infinity norm of its output Ax over the input x could only yield one result - _The difference between the vectors with the maximum value before and after the transformation._\n",
        "\n",
        "In other words, we had 6 \\[1x100,000\\] vectors as an input, and 9 \\[1x100,000\\] vectors as output. Our L_inf estimation of A was poor essentially due to \"low samples\".\n",
        "\n",
        "Because of the differences between the dimensions of the input and output, the norm doesn't give us as much information as a square matrix A would have. The L1 norm definitely outperforms the L-infinity norm in this specific case.\n",
        "\n",
        "At the same time, the L_inf norm bound of A is very close to the L_inf of the norm exact of A."
      ],
      "metadata": {
        "id": "q_pdPYj8Lqds"
      }
    }
  ],
  "metadata": {
    "kernelspec": {
      "display_name": "Python 3",
      "language": "python",
      "name": "python3"
    },
    "language_info": {
      "codemirror_mode": {
        "name": "ipython",
        "version": 3
      },
      "file_extension": ".py",
      "mimetype": "text/x-python",
      "name": "python",
      "nbconvert_exporter": "python",
      "pygments_lexer": "ipython3",
      "version": "3.10.6"
    },
    "orig_nbformat": 4,
    "vscode": {
      "interpreter": {
        "hash": "aee8b7b246df8f9039afb4144a1f6fd8d2ca17a180786b69acc140d282b71a49"
      }
    },
    "colab": {
      "provenance": []
    }
  },
  "nbformat": 4,
  "nbformat_minor": 0
}