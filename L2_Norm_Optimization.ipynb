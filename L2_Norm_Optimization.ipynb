{
  "cells": [
    {
      "cell_type": "markdown",
      "metadata": {
        "id": "mQrOo83_Aa8-"
      },
      "source": [
        "# Homework 3\n",
        "\n",
        "Write a program to roughly carry out the optimization problem inherent in $\\|A\\|_2$, namely $$\\max _{x \\neq O_n} \\frac{\\|A x\\|_2}{\\|x\\|_2}$$\n",
        "\n",
        "The program should take an arbitrary $m \\times n$ matrix $A$ and sample over 100000 random vectors $x \\in \\mathbb{R}^n$ (and use Gaussian random numbers) to approximately pick the maximum.\n",
        "\n",
        "Compute and empirically show that the analytic solution is an upper bound for the search. For demonstration purposes, use $m=9$ and $n=6$. The matrix entries can also be randomly chosen. Your program should contrast the empirical maximum with the analytically derived maximum to the optimization problem."
      ]
    },
    {
      "cell_type": "code",
      "execution_count": null,
      "metadata": {
        "colab": {
          "base_uri": "https://localhost:8080/",
          "height": 301
        },
        "id": "DOZZ7H67-SNT",
        "outputId": "622befc3-34fc-4d74-b60c-4b4dc8fc880f"
      },
      "outputs": [
        {
          "name": "stdout",
          "output_type": "stream",
          "text": [
            "Matrix L2 norm estimate: 4.3514, Matrix L2 norm exact: 4.3930\n"
          ]
        },
        {
          "data": {
            "image/png": "[encoded data removed]",
            "text/plain": [
              "<Figure size 432x288 with 1 Axes>"
            ]
          },
          "metadata": {
            "needs_background": "light"
          },
          "output_type": "display_data"
        }
      ],
      "source": [
        "# Fernando Sckaff\n",
        "# CIS4930 - Homework 3\n",
        "# 02/21/23\n",
        "\n",
        "import numpy as np\n",
        "import matplotlib.pyplot as plt\n",
        "\n",
        "m = 9                       # Number of rows\n",
        "n = 6                       # Number of columns\n",
        "A = np.random.randn(m,n)    # Setting up random A\n",
        "N = 100000                  # Number of samples of x\n",
        "x = np.random.randn(n,N)    # Setting up x\n",
        "\n",
        "y = A @ x                   # Setting up y = A @ x\n",
        "\n",
        "# Computing estimated L2 norm based on the randomly generated vectors\n",
        "matrix_L2norm_obj = []\n",
        "\n",
        "for i in range(y.shape[1]):\n",
        "  matrix_L2norm_obj.append(np.linalg.norm(y[:,i],2)/np.linalg.norm(x[:,i],2))\n",
        "\n",
        "# Computing the maximum of the ratio over all vectors\n",
        "A_L2norm_est = np.max(matrix_L2norm_obj)\n",
        "# Computing the exact L2 norm of A\n",
        "A_L2norm_exact = np.linalg.norm(A,2)\n",
        "\n",
        "# Printing stuff out and plots\n",
        "print(\"Matrix L2 norm estimate: {:.4f}, Matrix L2 norm exact: {:.4f}\".format(\\\n",
        "        A_L2norm_est, A_L2norm_exact))\n",
        "\n",
        "# Plots\n",
        "plt.figure()\n",
        "# Plotting the histogram of the objective function values\n",
        "plt.hist(matrix_L2norm_obj, bins=100)\n",
        "plt.axvline(x = A_L2norm_exact, color = 'r')\n",
        "plt.xlabel(r\"Matrix $L_2$ norm objective function values\")\n",
        "plt.ylabel(\"Histogram counts\")\n",
        "plt.show()"
      ]
    },
    {
      "cell_type": "markdown",
      "metadata": {
        "id": "cSgN9n5FJlZM"
      },
      "source": [
        "Conclusion: I genuinely do not know how to calculate the optimal vector for the L2 norm of a matrix. However, if you keep reiterating the code, estimated will never surpass exact. It can get very close though. I've plotted a vertical line with the exact L2 norm of the matrix for comparison.\n",
        "\n",
        "FS"
      ]
    }
  ],
  "metadata": {
    "colab": {
      "provenance": []
    },
    "kernelspec": {
      "display_name": "Python 3",
      "name": "python3"
    },
    "language_info": {
      "name": "python"
    }
  },
  "nbformat": 4,
  "nbformat_minor": 0
}
